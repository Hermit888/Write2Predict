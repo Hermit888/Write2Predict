{
 "cells": [
  {
   "cell_type": "code",
   "execution_count": 8,
   "id": "e2c236ee",
   "metadata": {},
   "outputs": [
    {
     "name": "stdout",
     "output_type": "stream",
     "text": [
      "number of training data and test data: 112800, 18800\n",
      "classes in training data: \n",
      "['0', '1', '2', '3', '4', '5', '6', '7', '8', '9', 'A', 'B', 'C', 'D', 'E', 'F', 'G', 'H', 'I', 'J', 'K', 'L', 'M', 'N', 'O', 'P', 'Q', 'R', 'S', 'T', 'U', 'V', 'W', 'X', 'Y', 'Z', 'a', 'b', 'd', 'e', 'f', 'g', 'h', 'n', 'q', 'r', 't']\n",
      "length of classes: 47\n"
     ]
    }
   ],
   "source": [
    "from torchvision import datasets, transforms\n",
    "\n",
    "# define transformations for the images\n",
    "# rotate the image by 90 degree (from horizontal to vertical)\n",
    "# normalize data to [-1, 1]\n",
    "transform = transforms.Compose([\n",
    "    transforms.RandomRotation((-90,-90)),\n",
    "    transforms.ToTensor(),\n",
    "    transforms.Normalize((0.5,), (0.5,))\n",
    "])\n",
    "\n",
    "# get training and test dataset\n",
    "train = datasets.EMNIST(root='./data', \n",
    "                        split='balanced', \n",
    "                        train=True,\n",
    "                        download=True,\n",
    "                        transform=transform\n",
    "                        )\n",
    "\n",
    "test = datasets.EMNIST(root='./data', \n",
    "                        split='balanced', \n",
    "                        train=False,\n",
    "                        download=True,\n",
    "                        transform=transform\n",
    "                        )\n",
    "\n",
    "print('number of training data and test data: '+ str(len(train)) + ', ' + str(len(test)))\n",
    "print('classes in training data: ')\n",
    "print(train.classes)\n",
    "print(f\"length of classes: {len(train.classes)}\")"
   ]
  },
  {
   "cell_type": "code",
   "execution_count": 9,
   "id": "a47ff7e2",
   "metadata": {},
   "outputs": [],
   "source": [
    "from torch.utils.data import DataLoader\n",
    "# load dataset\n",
    "train = DataLoader(train, batch_size=64, shuffle=True)\n",
    "test = DataLoader(test, batch_size=64, shuffle=False)"
   ]
  },
  {
   "cell_type": "code",
   "execution_count": 10,
   "id": "026c3ef2",
   "metadata": {},
   "outputs": [
    {
     "name": "stdout",
     "output_type": "stream",
     "text": [
      "length of training dataset after loading: 1763\n",
      "length of test dataset after loading: 294\n"
     ]
    }
   ],
   "source": [
    "print(f\"length of training dataset after loading: {len(train)}\")\n",
    "print(f\"length of test dataset after loading: {len(test)}\")"
   ]
  },
  {
   "cell_type": "code",
   "execution_count": null,
   "id": "4c832aaa",
   "metadata": {},
   "outputs": [],
   "source": []
  }
 ],
 "metadata": {
  "kernelspec": {
   "display_name": "Python 3",
   "language": "python",
   "name": "python3"
  },
  "language_info": {
   "codemirror_mode": {
    "name": "ipython",
    "version": 3
   },
   "file_extension": ".py",
   "mimetype": "text/x-python",
   "name": "python",
   "nbconvert_exporter": "python",
   "pygments_lexer": "ipython3",
   "version": "3.13.7"
  }
 },
 "nbformat": 4,
 "nbformat_minor": 5
}
