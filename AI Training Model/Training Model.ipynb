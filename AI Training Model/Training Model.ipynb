{
 "cells": [
  {
   "cell_type": "code",
   "execution_count": 2,
   "id": "e2c236ee",
   "metadata": {},
   "outputs": [
    {
     "name": "stdout",
     "output_type": "stream",
     "text": [
      "number of training data and test data: 112800, 18800\n",
      "classes in training data: \n",
      "['0', '1', '2', '3', '4', '5', '6', '7', '8', '9', 'A', 'B', 'C', 'D', 'E', 'F', 'G', 'H', 'I', 'J', 'K', 'L', 'M', 'N', 'O', 'P', 'Q', 'R', 'S', 'T', 'U', 'V', 'W', 'X', 'Y', 'Z', 'a', 'b', 'd', 'e', 'f', 'g', 'h', 'n', 'q', 'r', 't']\n"
     ]
    }
   ],
   "source": [
    "from torchvision import datasets, transforms\n",
    "\n",
    "transform = transforms.Compose([\n",
    "    transforms.ToTensor(),\n",
    "    transforms.Normalize((0.5,), (0.5,))\n",
    "])\n",
    "\n",
    "train = datasets.EMNIST(root='./data', \n",
    "                        split='balanced', \n",
    "                        train=True,\n",
    "                        download=True,\n",
    "                        transform=transform\n",
    "                        )\n",
    "\n",
    "test = datasets.EMNIST(root='./data', \n",
    "                        split='balanced', \n",
    "                        train=False,\n",
    "                        download=True,\n",
    "                        transform=transform\n",
    "                        )\n",
    "\n",
    "print('number of training data and test data: '+ str(len(train)) + ', ' + str(len(test)))\n",
    "print('classes in training data: ')\n",
    "print(train.classes)"
   ]
  },
  {
   "cell_type": "code",
   "execution_count": null,
   "id": "a47ff7e2",
   "metadata": {},
   "outputs": [],
   "source": []
  }
 ],
 "metadata": {
  "kernelspec": {
   "display_name": "Python 3",
   "language": "python",
   "name": "python3"
  },
  "language_info": {
   "codemirror_mode": {
    "name": "ipython",
    "version": 3
   },
   "file_extension": ".py",
   "mimetype": "text/x-python",
   "name": "python",
   "nbconvert_exporter": "python",
   "pygments_lexer": "ipython3",
   "version": "3.13.7"
  }
 },
 "nbformat": 4,
 "nbformat_minor": 5
}
